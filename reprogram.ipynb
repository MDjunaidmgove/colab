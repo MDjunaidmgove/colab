{
  "nbformat": 4,
  "nbformat_minor": 0,
  "metadata": {
    "colab": {
      "provenance": [],
      "authorship_tag": "ABX9TyNzH+1mLIgbaaJGnInsLf0I",
      "include_colab_link": true
    },
    "kernelspec": {
      "name": "python3",
      "display_name": "Python 3"
    },
    "language_info": {
      "name": "python"
    }
  },
  "cells": [
    {
      "cell_type": "markdown",
      "metadata": {
        "id": "view-in-github",
        "colab_type": "text"
      },
      "source": [
        "<a href=\"https://colab.research.google.com/github/MDjunaidmgove/colab/blob/main/reprogram.ipynb\" target=\"_parent\"><img src=\"https://colab.research.google.com/assets/colab-badge.svg\" alt=\"Open In Colab\"/></a>"
      ]
    },
    {
      "cell_type": "code",
      "execution_count": null,
      "metadata": {
        "id": "nEQ7-oV9nOZV",
        "colab": {
          "base_uri": "https://localhost:8080/"
        },
        "outputId": "fcbb6ea9-da17-47dc-89fd-4d40946c11e5"
      },
      "outputs": [
        {
          "output_type": "stream",
          "name": "stdout",
          "text": [
            "Q1 & Q2 - Custom Series:\n",
            " a     5\n",
            "b    10\n",
            "c    15\n",
            "d    20\n",
            "e    25\n",
            "dtype: int64\n"
          ]
        }
      ],
      "source": [
        "import pandas as pd\n",
        "\n",
        "series1 = pd.Series([5, 10, 15, 20, 25], index=['a', 'b', 'c', 'd', 'e'])\n",
        "print(\"Q1 & Q2 - Custom Series:\\n\", series1)\n"
      ]
    },
    {
      "cell_type": "code",
      "source": [],
      "metadata": {
        "id": "K2KECEPp8CLp"
      },
      "execution_count": null,
      "outputs": []
    },
    {
      "cell_type": "markdown",
      "source": [],
      "metadata": {
        "id": "J0fBhQiuG0mg"
      }
    },
    {
      "cell_type": "code",
      "source": [
        "import pandas as pd\n",
        "import numpy as np\n",
        "exam_data = {\n",
        "    'name': ['manish', 'dhiraj', 'sneha'],\n",
        "    'score': [88, 92, 95]\n",
        "}\n",
        "df = pd.DataFrame(exam_data)\n",
        "df = df.rename(columns={'name': 'Name', 'score': 'Score'})\n",
        "print(\"New DataFrame after renaming columns:\")\n",
        "print(df)"
      ],
      "metadata": {
        "colab": {
          "base_uri": "https://localhost:8080/"
        },
        "id": "gYuWzNwG8wkF",
        "outputId": "8f3e3086-c885-451d-9dcd-0e0427e59a8f"
      },
      "execution_count": null,
      "outputs": [
        {
          "output_type": "stream",
          "name": "stdout",
          "text": [
            "New DataFrame after renaming columns:\n",
            "     Name  Score\n",
            "0  manish     88\n",
            "1  dhiraj     92\n",
            "2   sneha     95\n"
          ]
        }
      ]
    },
    {
      "cell_type": "code",
      "source": [
        "import pandas as pd\n",
        "import numpy as np\n",
        "s1 = pd.Series([100, 200, 400])\n",
        "s2 = pd.Series([10, 20, 40])\n",
        "df = pd.concat([s1, s2], axis=1)\n",
        "new_col = [1, 2, 3]\n",
        "df.insert(loc=0, column='1', value=new_col)\n",
        "print(\"\\nNew DataFrame:\")\n",
        "print(df)\n"
      ],
      "metadata": {
        "colab": {
          "base_uri": "https://localhost:8080/"
        },
        "id": "JBLix-y08wmd",
        "outputId": "f999dee8-6031-4cda-8617-50b80faa08f1"
      },
      "execution_count": null,
      "outputs": [
        {
          "output_type": "stream",
          "name": "stdout",
          "text": [
            "\n",
            "New DataFrame:\n",
            "   1    0   1\n",
            "0  1  100  10\n",
            "1  2  200  20\n",
            "2  3  400  40\n"
          ]
        }
      ]
    },
    {
      "cell_type": "code",
      "source": [
        "add = lambda x,y :x+y\n",
        "print(add(5,3))"
      ],
      "metadata": {
        "colab": {
          "base_uri": "https://localhost:8080/"
        },
        "id": "cMdrojlA8wov",
        "outputId": "543a3cce-942d-4127-a589-4f08aed61aaf"
      },
      "execution_count": null,
      "outputs": [
        {
          "output_type": "stream",
          "name": "stdout",
          "text": [
            "8\n"
          ]
        }
      ]
    },
    {
      "cell_type": "code",
      "source": [
        "square =lambda x:x**2\n",
        "print (square(1800))"
      ],
      "metadata": {
        "colab": {
          "base_uri": "https://localhost:8080/"
        },
        "id": "Lr7x5EE08wrG",
        "outputId": "f8d575da-da47-4de7-d97d-3655633c1d39"
      },
      "execution_count": null,
      "outputs": [
        {
          "output_type": "stream",
          "name": "stdout",
          "text": [
            "3240000\n"
          ]
        }
      ]
    },
    {
      "cell_type": "code",
      "source": [
        "numbers = [1, 2, 3, 4, 5, 6]\n",
        "even_numbers = list(filter(lambda x: x % 2 == 0, numbers))\n",
        "print(even_numbers)\n"
      ],
      "metadata": {
        "colab": {
          "base_uri": "https://localhost:8080/"
        },
        "id": "5mkhqZ_w8wtV",
        "outputId": "d1aba774-c02f-4c1e-8aa8-0e6a7d50a426"
      },
      "execution_count": null,
      "outputs": [
        {
          "output_type": "stream",
          "name": "stdout",
          "text": [
            "[2, 4, 6]\n"
          ]
        }
      ]
    },
    {
      "cell_type": "code",
      "source": [
        "square =lambda x:x**2\n",
        "print (square(4))"
      ],
      "metadata": {
        "colab": {
          "base_uri": "https://localhost:8080/"
        },
        "id": "c34Tap-G1DaO",
        "outputId": "fb64c856-7744-49f2-e472-64acf2964f46"
      },
      "execution_count": null,
      "outputs": [
        {
          "output_type": "stream",
          "name": "stdout",
          "text": [
            "16\n"
          ]
        }
      ]
    },
    {
      "cell_type": "code",
      "source": [
        "n =[1,2,3,4,5,6]\n",
        "even =filter (lambda x:x%2==0,n)\n",
        "print(list(even))"
      ],
      "metadata": {
        "colab": {
          "base_uri": "https://localhost:8080/"
        },
        "id": "tNV-dTj11TTm",
        "outputId": "de055cb3-dccb-4252-b9fc-954202eb33c7"
      },
      "execution_count": null,
      "outputs": [
        {
          "output_type": "stream",
          "name": "stdout",
          "text": [
            "[2, 4, 6]\n"
          ]
        }
      ]
    },
    {
      "cell_type": "code",
      "source": [
        "a =[1,2,3,4]\n",
        "b =map(lambda x:x*2,a)\n",
        "print(list(b))"
      ],
      "metadata": {
        "colab": {
          "base_uri": "https://localhost:8080/"
        },
        "id": "eNTfDa7R14rH",
        "outputId": "d2d516e2-4247-498c-d902-491b61d36019"
      },
      "execution_count": null,
      "outputs": [
        {
          "output_type": "stream",
          "name": "stdout",
          "text": [
            "[2, 4, 6, 8]\n"
          ]
        }
      ]
    },
    {
      "cell_type": "code",
      "source": [
        "import pandas as pd\n",
        "fruit_diet ={'apple':50,'banana':30,'cherry':20}\n",
        "series =pd.Series(fruit_diet)\n",
        "new_price =series*1.2\n",
        "print(new_price)"
      ],
      "metadata": {
        "colab": {
          "base_uri": "https://localhost:8080/"
        },
        "id": "cSCxzXi24RAw",
        "outputId": "ac1e459d-3bcc-4e40-f43a-46a7bb40eba2"
      },
      "execution_count": null,
      "outputs": [
        {
          "output_type": "stream",
          "name": "stdout",
          "text": [
            "apple     60.0\n",
            "banana    36.0\n",
            "cherry    24.0\n",
            "dtype: float64\n"
          ]
        }
      ]
    },
    {
      "cell_type": "code",
      "source": [
        "import pandas as pd\n",
        "number = pd.Series([1,2,3,4,5])\n",
        "mean=number.mean()\n",
        "std_dev=number.std()\n",
        "print(\"mean:\",mean)\n",
        "print(\"standard deviation:\",std_dev)\n",
        "\n"
      ],
      "metadata": {
        "colab": {
          "base_uri": "https://localhost:8080/"
        },
        "id": "qFo5MEs65FX4",
        "outputId": "e688a5f2-5d98-4505-8c51-4949d370943a"
      },
      "execution_count": null,
      "outputs": [
        {
          "output_type": "stream",
          "name": "stdout",
          "text": [
            "mean: 3.0\n",
            "standard deviation: 1.5811388300841898\n"
          ]
        }
      ]
    },
    {
      "cell_type": "code",
      "source": [
        "import pandas as pd\n",
        "subject1=pd.Series({'alice':80,'bob':75,'david':90})\n",
        "subject2=pd.Series({'alice':85,'bob':90,'david':96})\n",
        "total_marks=subject1.add(subject2)\n",
        "print(total_marks)"
      ],
      "metadata": {
        "colab": {
          "base_uri": "https://localhost:8080/"
        },
        "id": "BP2BkkEG7GxB",
        "outputId": "e83e2f11-4dac-40b2-fcd8-014cf8ec814e"
      },
      "execution_count": null,
      "outputs": [
        {
          "output_type": "stream",
          "name": "stdout",
          "text": [
            "alice    165\n",
            "bob      165\n",
            "david    186\n",
            "dtype: int64\n"
          ]
        }
      ]
    },
    {
      "cell_type": "code",
      "source": [
        "multiply = lambda x, y, z: x + y * 2\n",
        "print(multiply(8, 9, 10))\n"
      ],
      "metadata": {
        "colab": {
          "base_uri": "https://localhost:8080/"
        },
        "id": "bssXvsZW9OxH",
        "outputId": "596c94a5-4d62-423d-f248-6a70233c36d5"
      },
      "execution_count": null,
      "outputs": [
        {
          "output_type": "stream",
          "name": "stdout",
          "text": [
            "26\n"
          ]
        }
      ]
    },
    {
      "cell_type": "code",
      "source": [],
      "metadata": {
        "id": "4RzcuC_TCSpV"
      },
      "execution_count": null,
      "outputs": []
    },
    {
      "cell_type": "code",
      "source": [
        "n=[1,2,3,4,5,6]\n",
        "even=filter(lambda x:x%2==0,n)\n",
        "print(list(even))"
      ],
      "metadata": {
        "colab": {
          "base_uri": "https://localhost:8080/"
        },
        "id": "Sm5WzPbg_7bU",
        "outputId": "9d38614c-0c94-4c69-aa7e-4d4dac82964e"
      },
      "execution_count": null,
      "outputs": [
        {
          "output_type": "stream",
          "name": "stdout",
          "text": [
            "[2, 4, 6]\n"
          ]
        }
      ]
    },
    {
      "cell_type": "code",
      "source": [
        " numbers = [1,2,3,4,5]\n",
        " doubled = list(map(lambda x:x*2,numbers))\n",
        " print (doubled)"
      ],
      "metadata": {
        "colab": {
          "base_uri": "https://localhost:8080/"
        },
        "id": "FdsdFJzX9O1e",
        "outputId": "39265f83-1b73-471d-cf42-2977b2efd01d"
      },
      "execution_count": null,
      "outputs": [
        {
          "output_type": "stream",
          "name": "stdout",
          "text": [
            "[2, 4, 6, 8, 10]\n"
          ]
        }
      ]
    },
    {
      "cell_type": "code",
      "source": [
        "numbers =[10,15,20,25,30]\n",
        "odds = list(filter(lambda x:x%2!=0,numbers))\n",
        "print (odds)"
      ],
      "metadata": {
        "colab": {
          "base_uri": "https://localhost:8080/"
        },
        "id": "QzUyuenN9O34",
        "outputId": "0975adc1-3aea-4fd3-b251-c31419abb191"
      },
      "execution_count": null,
      "outputs": [
        {
          "output_type": "stream",
          "name": "stdout",
          "text": [
            "[15, 25]\n"
          ]
        }
      ]
    },
    {
      "cell_type": "code",
      "source": [
        "def make_multiplier(n):\n",
        "  return lambda x :x * n\n",
        "\n",
        "double = make_multiplier(2)\n",
        "triple = make_multiplier(3)\n",
        "\n",
        "print(double(5))\n",
        "print(triple(5))"
      ],
      "metadata": {
        "colab": {
          "base_uri": "https://localhost:8080/"
        },
        "id": "66Bjy0zX9O52",
        "outputId": "c7b46c54-8ac3-456a-8a69-7f241b726d74"
      },
      "execution_count": null,
      "outputs": [
        {
          "output_type": "stream",
          "name": "stdout",
          "text": [
            "10\n",
            "15\n"
          ]
        }
      ]
    },
    {
      "cell_type": "code",
      "source": [
        "import pandas as pd\n",
        "import numpy as np\n",
        "exam_data = {'Name': ['manish', 'dhiraj', 'man', 'dhir'],\n",
        "             'score': [12.5, 91, 2.5, 9]}\n",
        "df = pd.DataFrame(exam_data)\n",
        "df = df[df.score >= 20]\n",
        "print(\"New DataFrame\")\n",
        "print(df)\n"
      ],
      "metadata": {
        "colab": {
          "base_uri": "https://localhost:8080/"
        },
        "id": "swX06AES9kbf",
        "outputId": "e146b419-18e7-4eb9-c86f-198645d999d0"
      },
      "execution_count": null,
      "outputs": [
        {
          "output_type": "stream",
          "name": "stdout",
          "text": [
            "New DataFrame\n",
            "     Name  score\n",
            "1  dhiraj   91.0\n"
          ]
        }
      ]
    },
    {
      "cell_type": "code",
      "source": [],
      "metadata": {
        "id": "D40Kj8629kig"
      },
      "execution_count": null,
      "outputs": []
    }
  ]
}