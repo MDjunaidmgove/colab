{
  "nbformat": 4,
  "nbformat_minor": 0,
  "metadata": {
    "colab": {
      "provenance": [],
      "authorship_tag": "ABX9TyNlvNup96iEdqv45kDjy+JN",
      "include_colab_link": true
    },
    "kernelspec": {
      "name": "python3",
      "display_name": "Python 3"
    },
    "language_info": {
      "name": "python"
    }
  },
  "cells": [
    {
      "cell_type": "markdown",
      "metadata": {
        "id": "view-in-github",
        "colab_type": "text"
      },
      "source": [
        "<a href=\"https://colab.research.google.com/github/MDjunaidmgove/colab/blob/main/Untitled1.ipynb\" target=\"_parent\"><img src=\"https://colab.research.google.com/assets/colab-badge.svg\" alt=\"Open In Colab\"/></a>"
      ]
    },
    {
      "cell_type": "code",
      "execution_count": null,
      "metadata": {
        "id": "hmFjf0L85zEN",
        "colab": {
          "base_uri": "https://localhost:8080/"
        },
        "outputId": "c28e3315-169d-4a41-a667-eb7bac0bf60d"
      },
      "outputs": [
        {
          "output_type": "stream",
          "name": "stdout",
          "text": [
            "The z value is : 44\n"
          ]
        }
      ],
      "source": [
        "a=5;b=2;x=2\n",
        "z=4*a*b+2*x\n",
        "print(\"The z value is :\",z)"
      ]
    },
    {
      "cell_type": "code",
      "source": [
        "name=input(\"Enter your name:\")\n",
        "print(name)\n",
        "regno=input(\"Enter regno:\")\n",
        "print(regno)"
      ],
      "metadata": {
        "colab": {
          "base_uri": "https://localhost:8080/"
        },
        "id": "vgvmcSMY84I-",
        "outputId": "70f9d54a-88a2-486d-a436-3763464ddeff"
      },
      "execution_count": null,
      "outputs": [
        {
          "output_type": "stream",
          "name": "stdout",
          "text": [
            "Enter your name:rohan\n",
            "rohan\n",
            "Enter regno:24cs043\n",
            "24cs043\n"
          ]
        }
      ]
    },
    {
      "cell_type": "code",
      "source": [
        "print(\"Hello world\")\n",
        "print(\"Hello \\nworld\")\n",
        "print(\" \")\n",
        "a=0\n",
        "print(a)\n",
        "b=20\n",
        "print(b)\n",
        "print(a,b)\n",
        "print(\"Hello \",a,b)\n",
        "c=\"koppal\"\n",
        "print(\"gpt\",c)\n",
        "s1=\"hello\"\n",
        "s2=\"koppal\"\n",
        "print(s1,s2)"
      ],
      "metadata": {
        "colab": {
          "base_uri": "https://localhost:8080/"
        },
        "id": "bENs7esB9cuH",
        "outputId": "66c4b0a7-408c-42ce-b74e-fae8e1b0fe9a"
      },
      "execution_count": null,
      "outputs": [
        {
          "output_type": "stream",
          "name": "stdout",
          "text": [
            "Hello world\n",
            "Hello \n",
            "world\n",
            " \n",
            "0\n",
            "20\n",
            "0 20\n",
            "Hello  0 20\n",
            "gpt koppal\n",
            "hello koppal\n"
          ]
        }
      ]
    },
    {
      "cell_type": "code",
      "source": [
        "x=1\n",
        "y=823472347\n",
        "z=-9234\n",
        "print(x);print(y);print(z)\n",
        "print(type(y));print(type(y));print(type(z))"
      ],
      "metadata": {
        "colab": {
          "base_uri": "https://localhost:8080/"
        },
        "id": "LlARMMRu-1wo",
        "outputId": "f0ad2d3a-9dfd-4a40-ab45-69f94c7087ac"
      },
      "execution_count": null,
      "outputs": [
        {
          "output_type": "stream",
          "name": "stdout",
          "text": [
            "1\n",
            "823472347\n",
            "-9234\n",
            "<class 'int'>\n",
            "<class 'int'>\n",
            "<class 'int'>\n"
          ]
        }
      ]
    },
    {
      "cell_type": "code",
      "source": [
        "x=45.723\n",
        "y=3.63\n",
        "print(x);print(y);print(z)\n",
        "print(x);print(type(y));print(type(z))"
      ],
      "metadata": {
        "colab": {
          "base_uri": "https://localhost:8080/"
        },
        "id": "vEj-ln69_7to",
        "outputId": "f8e1293d-eaad-4e13-9ad4-fae75c4b1586"
      },
      "execution_count": null,
      "outputs": [
        {
          "output_type": "stream",
          "name": "stdout",
          "text": [
            "45.723\n",
            "3.63\n",
            "-9234\n",
            "45.723\n",
            "<class 'float'>\n",
            "<class 'int'>\n"
          ]
        }
      ]
    },
    {
      "cell_type": "code",
      "source": [
        "x=3+5j\n",
        "y=6j\n",
        "z=-7j\n",
        "print(x);print(y);print(z)\n",
        "print(type(x));print(type(y));print(type(z))"
      ],
      "metadata": {
        "colab": {
          "base_uri": "https://localhost:8080/"
        },
        "id": "_yd6OTFRAthx",
        "outputId": "2769eafb-83e6-46ec-c765-751cbe9259ab"
      },
      "execution_count": null,
      "outputs": [
        {
          "output_type": "stream",
          "name": "stdout",
          "text": [
            "(3+5j)\n",
            "6j\n",
            "(-0-7j)\n",
            "<class 'complex'>\n",
            "<class 'complex'>\n",
            "<class 'complex'>\n"
          ]
        }
      ]
    },
    {
      "cell_type": "code",
      "source": [
        "print(10>9)\n",
        "print(10==9)\n",
        "print(10<9)\n"
      ],
      "metadata": {
        "colab": {
          "base_uri": "https://localhost:8080/"
        },
        "id": "fSS_o-jMBR_5",
        "outputId": "58018c00-5c96-48e2-ba81-55cda13afd2c"
      },
      "execution_count": null,
      "outputs": [
        {
          "output_type": "stream",
          "name": "stdout",
          "text": [
            "True\n",
            "False\n",
            "False\n"
          ]
        }
      ]
    },
    {
      "cell_type": "code",
      "source": [
        "x=None;print(x)\n",
        "a=False;print(a)\n",
        "b=0;print(b)\n",
        "c=\" \"; print(c)"
      ],
      "metadata": {
        "colab": {
          "base_uri": "https://localhost:8080/"
        },
        "id": "Dr-WVLvYBxbB",
        "outputId": "ee5bc393-36c2-4307-c7a2-60d4923989a7"
      },
      "execution_count": null,
      "outputs": [
        {
          "output_type": "stream",
          "name": "stdout",
          "text": [
            "None\n",
            "False\n",
            "0\n",
            " \n"
          ]
        }
      ]
    },
    {
      "cell_type": "code",
      "source": [
        "a=int(3.5)\n",
        "print(a)\n",
        "print(type(a))\n",
        "b=int(\"5\")\n",
        "print(b)\n",
        "print(type(b))"
      ],
      "metadata": {
        "colab": {
          "base_uri": "https://localhost:8080/"
        },
        "id": "9wgglHLFCeE5",
        "outputId": "2fcd4182-983c-4717-d36c-a1ddcdd8ef7d"
      },
      "execution_count": null,
      "outputs": [
        {
          "output_type": "stream",
          "name": "stdout",
          "text": [
            "3\n",
            "<class 'int'>\n",
            "5\n",
            "<class 'int'>\n"
          ]
        }
      ]
    },
    {
      "cell_type": "code",
      "source": [
        "a=str(8);print(a);print(type(a))\n",
        "b=str(3.5);print(b);print(type(b))\n"
      ],
      "metadata": {
        "colab": {
          "base_uri": "https://localhost:8080/"
        },
        "id": "LB2FbhWgDBoq",
        "outputId": "7ad028cf-5a03-4489-92f8-95c2e01f64a5"
      },
      "execution_count": null,
      "outputs": [
        {
          "output_type": "stream",
          "name": "stdout",
          "text": [
            "8\n",
            "<class 'str'>\n",
            "3.5\n",
            "<class 'str'>\n"
          ]
        }
      ]
    },
    {
      "cell_type": "code",
      "source": [
        "a=float(8);print(a)\n",
        "print(type(a))\n",
        "b=float(\"3\");print(b)\n",
        "print(type(b))\n",
        "c=float(\"35.50\");print(c)\n",
        "print(type(c))"
      ],
      "metadata": {
        "colab": {
          "base_uri": "https://localhost:8080/"
        },
        "id": "5M0RfRQ-Dmoi",
        "outputId": "eb316f4b-73b3-4f18-f8fb-989ec2e8ebc2"
      },
      "execution_count": null,
      "outputs": [
        {
          "output_type": "stream",
          "name": "stdout",
          "text": [
            "8.0\n",
            "<class 'float'>\n",
            "3.0\n",
            "<class 'float'>\n",
            "35.5\n",
            "<class 'float'>\n"
          ]
        }
      ]
    },
    {
      "cell_type": "code",
      "source": [
        "a=complex(8)\n",
        "print(a)\n",
        "print(type(a))\n",
        "b=complex(3,5)\n",
        "print(b)\n",
        "print(type(b))"
      ],
      "metadata": {
        "colab": {
          "base_uri": "https://localhost:8080/"
        },
        "id": "8VH1bxH1FYkT",
        "outputId": "fb772735-ef0b-422f-9960-3ba6425f35a2"
      },
      "execution_count": null,
      "outputs": [
        {
          "output_type": "stream",
          "name": "stdout",
          "text": [
            "(8+0j)\n",
            "<class 'complex'>\n",
            "(3+5j)\n",
            "<class 'complex'>\n"
          ]
        }
      ]
    },
    {
      "cell_type": "code",
      "source": [
        "print(10>=12)\n",
        "print(\"Ravi\">\"Ramu\")\n",
        "print(True==True)"
      ],
      "metadata": {
        "colab": {
          "base_uri": "https://localhost:8080/"
        },
        "id": "PRvFmGWMF8YL",
        "outputId": "ab72174c-8684-43f3-9ffa-8f6dff5a349e"
      },
      "execution_count": null,
      "outputs": [
        {
          "output_type": "stream",
          "name": "stdout",
          "text": [
            "False\n",
            "True\n",
            "True\n"
          ]
        }
      ]
    },
    {
      "cell_type": "code",
      "source": [
        "a=int(input(\"Enter a:\"))\n",
        "b=int(input(\"Enter b:\"))\n",
        "print(a>b)\n",
        "print(a<b)\n",
        "print(a>=b)\n",
        "print(a<=b)\n",
        "print(a==b)\n",
        "print(a!=b)\n",
        "\n"
      ],
      "metadata": {
        "colab": {
          "base_uri": "https://localhost:8080/"
        },
        "id": "vDfi3SvEGbej",
        "outputId": "32d620bd-1ae0-4e0b-f8d9-0cfd93e5e970"
      },
      "execution_count": null,
      "outputs": [
        {
          "output_type": "stream",
          "name": "stdout",
          "text": [
            "Enter a:4\n",
            "Enter b:5\n",
            "False\n",
            "True\n",
            "False\n",
            "True\n",
            "False\n",
            "True\n"
          ]
        }
      ]
    }
  ]
}